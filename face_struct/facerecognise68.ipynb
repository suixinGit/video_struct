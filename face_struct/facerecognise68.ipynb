{
 "cells": [
  {
   "cell_type": "code",
   "execution_count": 1,
   "metadata": {},
   "outputs": [],
   "source": [
    "# -*- coding: UTF-8 -*-\n",
    "#python facerecognise68.py shape_predictor_68_face_landmarks.dat dlib_face_recognition_resnet_model_v1.dat ./candidate-faces test1.jpg\n",
    "import sys,os,dlib,glob,numpy\n",
    "from skimage import io"
   ]
  },
  {
   "cell_type": "code",
   "execution_count": 2,
   "metadata": {},
   "outputs": [
    {
     "ename": "SyntaxError",
     "evalue": "Missing parentheses in call to 'print' (<ipython-input-2-f6f5eb3adb4f>, line 2)",
     "output_type": "error",
     "traceback": [
      "\u001b[0;36m  File \u001b[0;32m\"<ipython-input-2-f6f5eb3adb4f>\"\u001b[0;36m, line \u001b[0;32m2\u001b[0m\n\u001b[0;31m    print \"请检查参数是否正确\"\u001b[0m\n\u001b[0m                    ^\u001b[0m\n\u001b[0;31mSyntaxError\u001b[0m\u001b[0;31m:\u001b[0m Missing parentheses in call to 'print'\n"
     ]
    }
   ],
   "source": [
    "if len(sys.argv) != 5:\n",
    "    print(\"请检查参数是否正确\")\n",
    "    exit()\n",
    "\n",
    "# 1.人脸关键点检测器\n",
    "predictor_path = sys.argv[1]\n",
    "\n",
    "# 2.人脸识别模型\n",
    "face_rec_model_path = sys.argv[2]\n",
    "\n",
    "# 3.候选人脸文件夹\n",
    "faces_folder_path = sys.argv[3]\n",
    "\n",
    "# 4.需识别的人脸\n",
    "img_path = sys.argv[4]"
   ]
  },
  {
   "cell_type": "code",
   "execution_count": null,
   "metadata": {},
   "outputs": [],
   "source": [
    "# 1.人脸关键点检测器\n",
    "#predictor_path = '/home/zhangjie/下载/shape_predictor_68_face_landmarks.dat'\n",
    "\n",
    "# 2.人脸识别模型\n",
    "#face_rec_model_path='/home/zhangjie/下载/dlib_face_recognition_resnet_model_v1.dat'\n",
    "\n",
    "# 3.候选人脸文件夹\n",
    "#faces_folder_path = '/home/zhangjie/下载/candidate-faces'\n",
    "\n",
    "# 4.需识别的人脸\n",
    "#img_path = '/home/zhangjie/下载/test4.jpg'"
   ]
  },
  {
   "cell_type": "code",
   "execution_count": null,
   "metadata": {},
   "outputs": [],
   "source": [
    "# 1.加载正脸检测器\n",
    "detector = dlib.get_frontal_face_detector()"
   ]
  },
  {
   "cell_type": "code",
   "execution_count": null,
   "metadata": {},
   "outputs": [],
   "source": [
    "# 2.加载人脸关键点检测器\n",
    "sp = dlib.shape_predictor(predictor_path)"
   ]
  },
  {
   "cell_type": "code",
   "execution_count": null,
   "metadata": {},
   "outputs": [],
   "source": [
    "# 3. 加载人脸识别模型\n",
    "facerec = dlib.face_recognition_model_v1(face_rec_model_path)"
   ]
  },
  {
   "cell_type": "code",
   "execution_count": null,
   "metadata": {},
   "outputs": [],
   "source": [
    "win = dlib.image_window()"
   ]
  },
  {
   "cell_type": "code",
   "execution_count": null,
   "metadata": {},
   "outputs": [],
   "source": [
    "# 候选人脸描述子list\n",
    "descriptors = []"
   ]
  },
  {
   "cell_type": "code",
   "execution_count": null,
   "metadata": {},
   "outputs": [],
   "source": [
    "# 对文件夹下的每一个人脸进行:\n",
    "# 1.人脸检测\n",
    "# 2.关键点检测\n",
    "# 3.描述子提取\n",
    "\n",
    "for f in glob.glob(os.path.join(faces_folder_path, \"*.jpg\")):\n",
    "    print(\"Processing file: {}\".format(f))\n",
    "    img = io.imread(f)\n",
    "    win.clear_overlay()\n",
    "    win.set_image(img)\n",
    "\n",
    "    # 1.人脸检测\n",
    "    dets = detector(img, 1)\n",
    "    print(\"Number of faces detected: {}\".format(len(dets)))\n",
    "\n",
    "    for k, d in enumerate(dets):  \n",
    "        # 2.关键点检测\n",
    "        shape = sp(img, d)\n",
    "        # 画出人脸区域和和关键点\n",
    "        win.clear_overlay()\n",
    "        win.add_overlay(d)\n",
    "        win.add_overlay(shape)\n",
    "\n",
    "        # 3.描述子提取，128D向量\n",
    "        face_descriptor = facerec.compute_face_descriptor(img, shape)\n",
    "\n",
    "        # 转换为numpy array\n",
    "        v = numpy.array(face_descriptor)  \n",
    "        descriptors.append(v)"
   ]
  },
  {
   "cell_type": "code",
   "execution_count": null,
   "metadata": {},
   "outputs": [],
   "source": [
    "# 对需识别人脸进行同样处理\n",
    "# 提取描述子，不再注释\n",
    "img = io.imread(img_path)\n",
    "win.clear_overlay()\n",
    "win.set_image(img)\n",
    "dets = detector(img, 1)\n",
    "print(\"Number of faces detected: {}\".format(len(dets)))\n",
    "\n",
    "\n",
    "dist = []\n",
    "for k, d in enumerate(dets):\n",
    "    shape = sp(img, d)\n",
    "    win.clear_overlay()\n",
    "    win.add_overlay(d)\n",
    "    win.add_overlay(shape)\n",
    "\n",
    "    face_descriptor = facerec.compute_face_descriptor(img, shape)\n",
    "    d_test = numpy.array(face_descriptor) \n",
    "\n",
    "    # 计算欧式距离\n",
    "    for i in descriptors:\n",
    "        dist_ = numpy.linalg.norm(i-d_test)\n",
    "        dist.append(dist_)"
   ]
  },
  {
   "cell_type": "code",
   "execution_count": null,
   "metadata": {},
   "outputs": [],
   "source": [
    "# 候选人名单\n",
    "candidate = ['fanbingbing','liuyifei','unknow']"
   ]
  },
  {
   "cell_type": "code",
   "execution_count": null,
   "metadata": {},
   "outputs": [],
   "source": [
    "# 候选人和距离组成一个dict\n",
    "\n",
    "c_d = dict(zip(candidate,dist))\n",
    "\n",
    "cd_sorted = sorted(c_d.items(), key=lambda d:d[1])\n",
    "print (\"\\n The person is: \",cd_sorted[0][0])\n",
    "dlib.hit_enter_to_continue()"
   ]
  },
  {
   "cell_type": "code",
   "execution_count": null,
   "metadata": {},
   "outputs": [],
   "source": [
    "print(cd_sorted)"
   ]
  },
  {
   "cell_type": "code",
   "execution_count": null,
   "metadata": {},
   "outputs": [],
   "source": []
  }
 ],
 "metadata": {
  "kernelspec": {
   "display_name": "Python 3",
   "language": "python",
   "name": "python3"
  },
  "language_info": {
   "codemirror_mode": {
    "name": "ipython",
    "version": 3
   },
   "file_extension": ".py",
   "mimetype": "text/x-python",
   "name": "python",
   "nbconvert_exporter": "python",
   "pygments_lexer": "ipython3",
   "version": "3.5.2"
  }
 },
 "nbformat": 4,
 "nbformat_minor": 2
}
