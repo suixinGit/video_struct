{
 "cells": [
  {
   "cell_type": "code",
   "execution_count": 1,
   "metadata": {},
   "outputs": [],
   "source": [
    "#!/usr/bin/python\n",
    "# The contents of this file are in the public domain. See LICENSE_FOR_EXAMPLE_PROGRAMS.txt\n",
    "#\n",
    "# \n",
    "# This is an example illustrating the use of a binary SVM classifier tool from\n",
    "# the dlib C++ Library.  In this example, we will create a simple test dataset\n",
    "# and show how to learn a classifier from it.  \n",
    "#\n",
    "#\n",
    "# COMPILING/INSTALLING THE DLIB PYTHON INTERFACE\n",
    "#   You can install dlib using the command:\n",
    "#       pip install dlib\n",
    "#\n",
    "#   Alternatively, if you want to compile dlib yourself then go into the dlib\n",
    "#   root folder and run:\n",
    "#       python setup.py install\n",
    "#   or\n",
    "#       python setup.py install --yes USE_AVX_INSTRUCTIONS\n",
    "#   if you have a CPU that supports AVX instructions, since this makes some\n",
    "#   things run faster.  \n",
    "#\n",
    "#   Compiling dlib should work on any operating system so long as you have\n",
    "#   CMake installed.  On Ubuntu, this can be done easily by running the\n",
    "#   command:\n",
    "#       sudo apt-get install cmake\n",
    "#"
   ]
  },
  {
   "cell_type": "code",
   "execution_count": 3,
   "metadata": {},
   "outputs": [],
   "source": [
    "#pickle模块实现了基本的数据序列化和反序列化。通过pickle模块的序列化操作我们能够将程序中运行的对象信息保存到文件中去，永久存储；\n",
    "#通过pickle模块的反序列化操作，我们能够从文件中创建上一次程序保存的对象。\n",
    "import dlib\n",
    "try:\n",
    "    import cPickle as pickle\n",
    "except ImportError:\n",
    "    import pickle"
   ]
  },
  {
   "cell_type": "code",
   "execution_count": 10,
   "metadata": {},
   "outputs": [],
   "source": [
    "x = dlib.vectors()\n",
    "y = dlib.array()\n",
    "\n",
    "# Make a training dataset.  Here we have just two training examples.  Normally\n",
    "# you would use a much larger training dataset, but for the purpose of example\n",
    "# this is plenty.  For binary classification, the y labels should all be either +1 or -1.\n",
    "x.append(dlib.vector([1, 2, 3, -1, -2, -3]))\n",
    "y.append(+1)\n",
    "\n",
    "x.append(dlib.vector([-1, -2, -3, 1, 2, 3]))\n",
    "y.append(-1)"
   ]
  },
  {
   "cell_type": "code",
   "execution_count": 13,
   "metadata": {},
   "outputs": [],
   "source": [
    "# Now make a training object.  This object is responsible for turning a\n",
    "# training dataset into a prediction model.  This one here is a SVM trainer\n",
    "# that uses a linear kernel.  If you wanted to use a RBF kernel or histogram\n",
    "# intersection kernel you could change it to one of these lines:\n",
    "#  svm = dlib.svm_c_trainer_histogram_intersection()\n",
    "#  svm = dlib.svm_c_trainer_radial_basis()\n",
    "svm = dlib.svm_c_trainer_linear()\n",
    "svm.be_verbose()\n",
    "svm.set_c(10)"
   ]
  },
  {
   "cell_type": "code",
   "execution_count": 14,
   "metadata": {},
   "outputs": [],
   "source": [
    "# Now train the model.  The return value is the trained model capable of making predictions.\n",
    "classifier = svm.train(x, y)"
   ]
  },
  {
   "cell_type": "code",
   "execution_count": 15,
   "metadata": {},
   "outputs": [
    {
     "name": "stdout",
     "output_type": "stream",
     "text": [
      "prediction for first sample:  1.0\n",
      "prediction for second sample: -1.0\n"
     ]
    }
   ],
   "source": [
    "# Now run the model on our data and look at the results.\n",
    "print(\"prediction for first sample:  {}\".format(classifier(x[0])))\n",
    "print(\"prediction for second sample: {}\".format(classifier(x[1])))"
   ]
  },
  {
   "cell_type": "code",
   "execution_count": 16,
   "metadata": {},
   "outputs": [],
   "source": [
    "# classifier models can also be pickled in the same was as any other python object.\n",
    "with open('saved_model.pickle', 'wb') as handle:\n",
    "    pickle.dump(classifier, handle, 2)#将对象obj保存到文件file中去。"
   ]
  },
  {
   "cell_type": "code",
   "execution_count": null,
   "metadata": {},
   "outputs": [],
   "source": []
  }
 ],
 "metadata": {
  "kernelspec": {
   "display_name": "Python 3",
   "language": "python",
   "name": "python3"
  },
  "language_info": {
   "codemirror_mode": {
    "name": "ipython",
    "version": 3
   },
   "file_extension": ".py",
   "mimetype": "text/x-python",
   "name": "python",
   "nbconvert_exporter": "python",
   "pygments_lexer": "ipython3",
   "version": "3.5.2"
  }
 },
 "nbformat": 4,
 "nbformat_minor": 2
}
