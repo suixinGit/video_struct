{
 "cells": [
  {
   "cell_type": "code",
   "execution_count": 33,
   "metadata": {},
   "outputs": [],
   "source": [
    "# encoding=utf-8  #or gbk 这样才能使用中文\n",
    "__author__ = 'Zhangjie'\n",
    "\n",
    "import cv2\n",
    "import numpy as np\n",
    "import os\n",
    "#车辆识别依赖模块\n",
    "from aip import AipImageClassify\n",
    "#车牌识别依赖模块\n",
    "import sys\n",
    "import ssl\n",
    "import urllib.request\n",
    "import json\n",
    "import string\n",
    "import base64\n",
    "#文件选择对话框对话框依赖模块\n",
    "import time\n",
    "import json\n",
    "import httplib2\n",
    "\n",
    "#百度AI个人API\n",
    "APP_ID = '11092056'\n",
    "API_KEY = 'C78v7yl1stPdGLz2gLPqZPmm'\n",
    "SECRET_KEY = '1EsdqbQi6geDdffF5uZ5KtNznNwVnw0L'\n",
    "\n",
    "client = AipImageClassify(APP_ID, API_KEY, SECRET_KEY)\n",
    "# client_id 为官网获取的AK， client_secret 为官网获取的SK\n",
    "host = 'https://aip.baidubce.com/oauth/2.0/token?grant_type=client_credentials&client_id='+ API_KEY + '&client_secret=' + SECRET_KEY\n",
    "request = urllib.request.Request(host)\n",
    "request.add_header('Content-Type', 'application/json; charset=UTF-8')\n",
    "response = urllib.request.urlopen(request)\n",
    "#print(response)\n",
    "content = response.read()\n",
    "if (content):\n",
    "    #print(content)\n",
    "    data = eval(content)\n",
    "    access_token = data[\"access_token\"]"
   ]
  },
  {
   "cell_type": "code",
   "execution_count": 36,
   "metadata": {},
   "outputs": [],
   "source": [
    "# 图像路径\n",
    "filepath = './'\n",
    "filename = '2018-07-02 11:34:22.934533.jpg'\n",
    "filepath_in = filepath + filename\n",
    "#print(filepath_in)\n",
    "\n",
    "\"\"\" 读取图片 \"\"\"\n",
    "def get_file_content(filePath):\n",
    "    # 二进制方式打开图文件\n",
    "    with open(filePath, 'rb') as fp:\n",
    "        return fp.read()\n",
    "image = get_file_content(filepath_in)\n",
    "# 参数image：图像base64编码\n",
    "img = base64.b64encode(image)\n",
    "# 二进制方式打开图文件"
   ]
  },
  {
   "cell_type": "code",
   "execution_count": 42,
   "metadata": {},
   "outputs": [],
   "source": [
    "\"\"\" 车牌识别 \"\"\"\n",
    "#车牌识别api\n",
    "platerecognise_url_api = 'https://aip.baidubce.com/rest/2.0/ocr/v1/license_plate'\n",
    "platerecognise_url = platerecognise_url_api+'?access_token=' + access_token\n",
    "platerecognise_params = {\"image\": img}\n",
    "#params = urllib.parse.urlencode(params).encode(encoding='utf-8')\n",
    "platerecognise_params = urllib.parse.urlencode(platerecognise_params)\n",
    "platerecognise_params = platerecognise_params.encode(encoding='UTF8')\n",
    "\n",
    "platerecognise_request = urllib.request.Request(platerecognise_url, platerecognise_params)\n",
    "platerecognise_request.add_header('Content-Type', 'application/x-www-form-urlencoded')\n",
    "platerecognise_response = urllib.request.urlopen(platerecognise_request)\n",
    "platerecognise_content = platerecognise_response.read()\n",
    "platerecognise_content1 = platerecognise_content.decode('utf-8')\n",
    "platerecognise_json = json.loads(platerecognise_content1)"
   ]
  },
  {
   "cell_type": "code",
   "execution_count": 38,
   "metadata": {},
   "outputs": [
    {
     "name": "stdout",
     "output_type": "stream",
     "text": [
      "not false\n"
     ]
    }
   ],
   "source": [
    "\"\"\" 调用车辆识别 \"\"\"\n",
    "cardrecognise_url_api = \"https://aip.baidubce.com/rest/2.0/image-classify/v1/car\"\n",
    "cardrecognise_url = cardrecognise_url_api + \"?access_token=\" + access_token\n",
    "cardrecognise_params = {\"image\":img,\"top_num\":5}\n",
    "cardrecognise_params = urllib.parse.urlencode(cardrecognise_params)\n",
    "cardrecognise_params = cardrecognise_params.encode(encoding='UTF8')\n",
    "\n",
    "cardrecognise_request = urllib.request.Request(url=cardrecognise_url, data=cardrecognise_params)\n",
    "cardrecognise_request.add_header('Content-Type', 'application/x-www-form-urlencoded')\n",
    "cardrecognise_response = urllib.request.urlopen(cardrecognise_request)\n",
    "cardrecognise_content = cardrecognise_response.read()\n",
    "cardrecognise_content1 = cardrecognise_content.decode('utf-8')\n",
    "cardrecognise_json = json.loads(cardrecognise_content1)\n",
    "if not platerecognise_content or not cardrecognise_content:\n",
    "    print(\"false\")\n",
    "else:\n",
    "    print('not false')"
   ]
  },
  {
   "cell_type": "code",
   "execution_count": null,
   "metadata": {},
   "outputs": [],
   "source": [
    "json = json.loads(cardrecognise_content1)"
   ]
  },
  {
   "cell_type": "code",
   "execution_count": 43,
   "metadata": {},
   "outputs": [
    {
     "name": "stdout",
     "output_type": "stream",
     "text": [
      "2\n",
      "{'error_msg': 'Open api daily request limit reached', 'error_code': 17}\n"
     ]
    }
   ],
   "source": [
    "print(len(platerecognise_json))\n",
    "print(platerecognise_json)"
   ]
  },
  {
   "cell_type": "code",
   "execution_count": 40,
   "metadata": {},
   "outputs": [
    {
     "name": "stdout",
     "output_type": "stream",
     "text": [
      "4\n",
      "{'location_result': {'left': 0, 'width': 381, 'top': 8, 'height': 381}, 'result': [{'score': 0.99530518054962, 'name': '大众甲壳虫', 'year': '2016-2017'}, {'score': 0.0035497008357197, 'name': '大众桑塔纳(Santana)', 'year': '2017'}, {'score': 0.00014761179045308, 'name': '大众高尔夫(Golf)', 'year': '2017'}, {'score': 5.8906032791128e-05, 'name': '莲花汽车竞速', 'year': '2008'}, {'score': 5.2184102969477e-05, 'name': '长安奔奔', 'year': '2017'}], 'color_result': '红色', 'log_id': 4083603556826569428}\n"
     ]
    }
   ],
   "source": [
    "print(len(cardrecognise_json))\n",
    "print(cardrecognise_json)"
   ]
  },
  {
   "cell_type": "code",
   "execution_count": null,
   "metadata": {},
   "outputs": [],
   "source": []
  },
  {
   "cell_type": "code",
   "execution_count": null,
   "metadata": {},
   "outputs": [],
   "source": [
    "print(cardrecognise_json)"
   ]
  },
  {
   "cell_type": "code",
   "execution_count": null,
   "metadata": {},
   "outputs": [],
   "source": []
  },
  {
   "cell_type": "code",
   "execution_count": null,
   "metadata": {},
   "outputs": [],
   "source": [
    "\"\"\" 调用车辆识别 \"\"\"\n",
    "client.carDetect(image);\n",
    "\"\"\" 如果有可选参数 \"\"\"\n",
    "options = {}\n",
    "options[\"top_num\"] = 5\n",
    "\"\"\" 带参数调用车辆识别 \"\"\"\n",
    "result = client.carDetect(image, options)"
   ]
  },
  {
   "cell_type": "code",
   "execution_count": null,
   "metadata": {},
   "outputs": [],
   "source": [
    "car_location = platerecognise_content1['location_result']"
   ]
  },
  {
   "cell_type": "code",
   "execution_count": 58,
   "metadata": {},
   "outputs": [
    {
     "ename": "TypeError",
     "evalue": "a bytes-like object is required, not 'str'",
     "output_type": "error",
     "traceback": [
      "\u001b[0;31m---------------------------------------------------------------------------\u001b[0m",
      "\u001b[0;31mTypeError\u001b[0m                                 Traceback (most recent call last)",
      "\u001b[0;32m<ipython-input-58-cafdfb67dd34>\u001b[0m in \u001b[0;36m<module>\u001b[0;34m()\u001b[0m\n\u001b[1;32m     13\u001b[0m     \u001b[0;31m#lines=csv.reader(myFile)\u001b[0m\u001b[0;34m\u001b[0m\u001b[0;34m\u001b[0m\u001b[0m\n\u001b[1;32m     14\u001b[0m     \u001b[0mCSV_Writer\u001b[0m\u001b[0;34m=\u001b[0m\u001b[0mcsv\u001b[0m\u001b[0;34m.\u001b[0m\u001b[0mDictWriter\u001b[0m\u001b[0;34m(\u001b[0m\u001b[0mmyvideoStoreFile\u001b[0m\u001b[0;34m,\u001b[0m\u001b[0mfieldnames\u001b[0m\u001b[0;34m=\u001b[0m\u001b[0mheader\u001b[0m\u001b[0;34m)\u001b[0m\u001b[0;34m\u001b[0m\u001b[0m\n\u001b[0;32m---> 15\u001b[0;31m     \u001b[0mCSV_Writer\u001b[0m\u001b[0;34m.\u001b[0m\u001b[0mwriteheader\u001b[0m\u001b[0;34m(\u001b[0m\u001b[0;34m)\u001b[0m    \u001b[0;31m#   写入表头\u001b[0m\u001b[0;34m\u001b[0m\u001b[0m\n\u001b[0m\u001b[1;32m     16\u001b[0m     \u001b[0mCSV_Writer\u001b[0m\u001b[0;34m.\u001b[0m\u001b[0mwriterows\u001b[0m\u001b[0;34m(\u001b[0m\u001b[0mdata\u001b[0m\u001b[0;34m)\u001b[0m  \u001b[0;31m# 批量写入\u001b[0m\u001b[0;34m\u001b[0m\u001b[0m\n\u001b[1;32m     17\u001b[0m \u001b[0mmyvideoStoreFile\u001b[0m\u001b[0;34m.\u001b[0m\u001b[0mclose\u001b[0m\u001b[0;34m(\u001b[0m\u001b[0;34m)\u001b[0m\u001b[0;34m\u001b[0m\u001b[0m\n",
      "\u001b[0;32m/usr/lib/python3.5/csv.py\u001b[0m in \u001b[0;36mwriteheader\u001b[0;34m(self)\u001b[0m\n\u001b[1;32m    140\u001b[0m     \u001b[0;32mdef\u001b[0m \u001b[0mwriteheader\u001b[0m\u001b[0;34m(\u001b[0m\u001b[0mself\u001b[0m\u001b[0;34m)\u001b[0m\u001b[0;34m:\u001b[0m\u001b[0;34m\u001b[0m\u001b[0m\n\u001b[1;32m    141\u001b[0m         \u001b[0mheader\u001b[0m \u001b[0;34m=\u001b[0m \u001b[0mdict\u001b[0m\u001b[0;34m(\u001b[0m\u001b[0mzip\u001b[0m\u001b[0;34m(\u001b[0m\u001b[0mself\u001b[0m\u001b[0;34m.\u001b[0m\u001b[0mfieldnames\u001b[0m\u001b[0;34m,\u001b[0m \u001b[0mself\u001b[0m\u001b[0;34m.\u001b[0m\u001b[0mfieldnames\u001b[0m\u001b[0;34m)\u001b[0m\u001b[0;34m)\u001b[0m\u001b[0;34m\u001b[0m\u001b[0m\n\u001b[0;32m--> 142\u001b[0;31m         \u001b[0mself\u001b[0m\u001b[0;34m.\u001b[0m\u001b[0mwriterow\u001b[0m\u001b[0;34m(\u001b[0m\u001b[0mheader\u001b[0m\u001b[0;34m)\u001b[0m\u001b[0;34m\u001b[0m\u001b[0m\n\u001b[0m\u001b[1;32m    143\u001b[0m \u001b[0;34m\u001b[0m\u001b[0m\n\u001b[1;32m    144\u001b[0m     \u001b[0;32mdef\u001b[0m \u001b[0m_dict_to_list\u001b[0m\u001b[0;34m(\u001b[0m\u001b[0mself\u001b[0m\u001b[0;34m,\u001b[0m \u001b[0mrowdict\u001b[0m\u001b[0;34m)\u001b[0m\u001b[0;34m:\u001b[0m\u001b[0;34m\u001b[0m\u001b[0m\n",
      "\u001b[0;32m/usr/lib/python3.5/csv.py\u001b[0m in \u001b[0;36mwriterow\u001b[0;34m(self, rowdict)\u001b[0m\n\u001b[1;32m    151\u001b[0m \u001b[0;34m\u001b[0m\u001b[0m\n\u001b[1;32m    152\u001b[0m     \u001b[0;32mdef\u001b[0m \u001b[0mwriterow\u001b[0m\u001b[0;34m(\u001b[0m\u001b[0mself\u001b[0m\u001b[0;34m,\u001b[0m \u001b[0mrowdict\u001b[0m\u001b[0;34m)\u001b[0m\u001b[0;34m:\u001b[0m\u001b[0;34m\u001b[0m\u001b[0m\n\u001b[0;32m--> 153\u001b[0;31m         \u001b[0;32mreturn\u001b[0m \u001b[0mself\u001b[0m\u001b[0;34m.\u001b[0m\u001b[0mwriter\u001b[0m\u001b[0;34m.\u001b[0m\u001b[0mwriterow\u001b[0m\u001b[0;34m(\u001b[0m\u001b[0mself\u001b[0m\u001b[0;34m.\u001b[0m\u001b[0m_dict_to_list\u001b[0m\u001b[0;34m(\u001b[0m\u001b[0mrowdict\u001b[0m\u001b[0;34m)\u001b[0m\u001b[0;34m)\u001b[0m\u001b[0;34m\u001b[0m\u001b[0m\n\u001b[0m\u001b[1;32m    154\u001b[0m \u001b[0;34m\u001b[0m\u001b[0m\n\u001b[1;32m    155\u001b[0m     \u001b[0;32mdef\u001b[0m \u001b[0mwriterows\u001b[0m\u001b[0;34m(\u001b[0m\u001b[0mself\u001b[0m\u001b[0;34m,\u001b[0m \u001b[0mrowdicts\u001b[0m\u001b[0;34m)\u001b[0m\u001b[0;34m:\u001b[0m\u001b[0;34m\u001b[0m\u001b[0m\n",
      "\u001b[0;31mTypeError\u001b[0m: a bytes-like object is required, not 'str'"
     ]
    }
   ],
   "source": [
    "import csv  \n",
    "#   数据\n",
    "data = [\n",
    "{'Petal.Length': '1.4', 'Sepal.Length': '5.1', 'Petal.Width': '0.2', 'Sepal.Width': '3.5', 'Species': 'setosa'},\n",
    "{'Petal.Length': '1.4', 'Sepal.Length': '4.9', 'Petal.Width': '0.2', 'Sepal.Width': '3', 'Species': 'setosa'},\n",
    "{'Petal.Length': '1.3', 'Sepal.Length': '4.7', 'Petal.Width': '0.2', 'Sepal.Width': '3.2', 'Species': 'setosa'},\n",
    "{'Petal.Length': '1.5', 'Sepal.Length': '4.6', 'Petal.Width': '0.2', 'Sepal.Width': '3.1', 'Species': 'setosa'}\n",
    "]\n",
    "#   表头\n",
    "header = ['Petal.Length', 'Sepal.Length', 'Petal.Width', 'Sepal.Width', 'Species']\n",
    "\n",
    "with open('CameraStore.csv','wb') as myvideoStoreFile:  \n",
    "    #lines=csv.reader(myFile)  \n",
    "    CSV_Writer=csv.DictWriter(myvideoStoreFile,fieldnames=header)\n",
    "    CSV_Writer.writeheader()    #   写入表头\n",
    "    CSV_Writer.writerows(data)  # 批量写入\n",
    "myvideoStoreFile.close()"
   ]
  },
  {
   "cell_type": "code",
   "execution_count": 24,
   "metadata": {},
   "outputs": [],
   "source": [
    "import csv \n",
    "import datetime\n",
    "#   数据\n",
    "#data = [['American','美国人'],\n",
    "#        ['Chinese','中国人'],\n",
    "#        ['sdfasf',1232123.131]\n",
    "#       ]\n",
    "starttime = datetime.datetime.now().strftime(\"%Y-%m-%d %H:%M:%S\")\n",
    "data=[starttime,1]\n",
    "#   表头\n",
    "#header = ['Petal.Length', 'Sepal.Length', 'Petal.Width', 'Sepal.Width', 'Species']\n",
    "#print( len(data))\n",
    "with open('VideoInfo4Rec.csv', 'w+',encoding='utf-8-sig') as dstfile:   #写入方式选择wb，否则有空行\n",
    "    writer = csv.writer(dstfile)\n",
    "    writer.writerow(data)  # 批量写入"
   ]
  },
  {
   "cell_type": "code",
   "execution_count": 26,
   "metadata": {},
   "outputs": [
    {
     "name": "stdout",
     "output_type": "stream",
     "text": [
      "2018-07-03 15:43:26\n",
      "2018-07-03 15:43:26\n",
      "1\n"
     ]
    }
   ],
   "source": [
    "import csv \n",
    "import datetime\n",
    "#   数据\n",
    "#   表头\n",
    "#header = ['Petal.Length', 'Sepal.Length', 'Petal.Width', 'Sepal.Width', 'Species']\n",
    "with open('VideoInfo4Rec.csv', 'r',encoding='utf-8-sig') as dstfile:   #写入方式选择wb，否则有空行\n",
    "    lines=csv.reader(dstfile)\n",
    "    for line in lines:\n",
    "        print(line[0])\n",
    "        date_time = datetime.datetime.strptime(line[0],\"%Y-%m-%d %H:%M:%S\")\n",
    "        print(date_time)\n",
    "        print(int(line[1]))\n",
    "    \n",
    "        \n"
   ]
  },
  {
   "cell_type": "code",
   "execution_count": 73,
   "metadata": {},
   "outputs": [
    {
     "name": "stdout",
     "output_type": "stream",
     "text": [
      "0.9346923144667416\n"
     ]
    }
   ],
   "source": [
    "import random\n",
    "def getzhixindu():\n",
    "    a=0\n",
    "    while(a<0.9):\n",
    "        a= random.random()\n",
    "    return a\n",
    "zhixindu = getzhixindu()\n",
    "print(zhixindu)"
   ]
  },
  {
   "cell_type": "code",
   "execution_count": 83,
   "metadata": {},
   "outputs": [],
   "source": [
    "fortmat_zhen = 'JPG'"
   ]
  },
  {
   "cell_type": "code",
   "execution_count": 82,
   "metadata": {},
   "outputs": [
    {
     "name": "stdout",
     "output_type": "stream",
     "text": [
      "6eb29280-7dd7-11e8-bbac-000c297a242a\n",
      "201807021708\n",
      "201807021708_6eb29281-7dd7-11e8-bbac-000c297a242a\n"
     ]
    }
   ],
   "source": [
    "import datetime\n",
    "#python生成GUID\n",
    "import uuid\n",
    "print(uuid.uuid1())\n",
    "print(datetime.datetime.now().strftime(\"%Y%m%d%H%M\"))  # 获取当前时间\n",
    "code_zhen_num = datetime.datetime.now().strftime(\"%Y%m%d%H%M\") + '_' + str(uuid.uuid1())\n",
    "print(code_zhen_num)"
   ]
  },
  {
   "cell_type": "code",
   "execution_count": 76,
   "metadata": {},
   "outputs": [
    {
     "ename": "NameError",
     "evalue": "name 'content1' is not defined",
     "output_type": "error",
     "traceback": [
      "\u001b[0;31m---------------------------------------------------------------------------\u001b[0m",
      "\u001b[0;31mNameError\u001b[0m                                 Traceback (most recent call last)",
      "\u001b[0;32m<ipython-input-76-c83080cf4d36>\u001b[0m in \u001b[0;36m<module>\u001b[0;34m()\u001b[0m\n\u001b[0;32m----> 1\u001b[0;31m \u001b[0mprint\u001b[0m\u001b[0;34m(\u001b[0m\u001b[0mcontent1\u001b[0m\u001b[0;34m)\u001b[0m\u001b[0;34m\u001b[0m\u001b[0m\n\u001b[0m",
      "\u001b[0;31mNameError\u001b[0m: name 'content1' is not defined"
     ]
    }
   ],
   "source": [
    "print(content1)"
   ]
  },
  {
   "cell_type": "code",
   "execution_count": null,
   "metadata": {},
   "outputs": [],
   "source": [
    "\n",
    "\n",
    "\n",
    "\n",
    "\n",
    "content = response.read()\n",
    "content = content.decode('utf-8')\n",
    "if (content):\n",
    "    #print(content)\n",
    "    #print(type(content))\n",
    "    pass\n",
    "\n",
    "\n",
    "\"\"\" 调用车辆识别 \"\"\"\n",
    "start = time.time()\n",
    "client.carDetect(image);\n",
    "\n",
    "\"\"\" 如果有可选参数 \"\"\"\n",
    "options = {}\n",
    "options[\"top_num\"] = 5\n",
    "\n",
    "\"\"\" 带参数调用车辆识别 \"\"\"\n",
    "result = client.carDetect(image, options)\n",
    "print(result)\n",
    "car_location = result['location_result']\n",
    "#print(car_location)\n",
    "car_attribute = result['result']\n",
    "car_color = result['color_result']\n",
    "#print(car_color)\n",
    "end = time.time()\n",
    "print('car recognise time cost is %f'%(end-start))\n",
    "\n",
    "#img = cv2.imread(filepath_in, cv2.IMREAD_COLOR)   # 读取彩色图像\n",
    "#img_g = cv2.imread(filepath_in, 0)  # 读取绘图图像\n",
    "\n",
    "\n",
    "#cv2.imshow('test',img)\n",
    "#cv2.waitKey(0)\n",
    "#cv2.destroyAllWindows()"
   ]
  },
  {
   "cell_type": "code",
   "execution_count": 114,
   "metadata": {},
   "outputs": [],
   "source": [
    "import cv2\n",
    "import numpy as np \n",
    "import datetime\n",
    "camera = cv2.VideoCapture('./3.mp4')\n",
    "video_length = int(camera.get(cv2.CAP_PROP_FRAME_COUNT))\n",
    "\n",
    "if camera.isOpened(): #判断是否正常打开 \n",
    "    ret, frame0 = camera.read() \n",
    "else: \n",
    "    ret = False"
   ]
  },
  {
   "cell_type": "code",
   "execution_count": 97,
   "metadata": {},
   "outputs": [],
   "source": [
    "fps=camera.get(cv2.CAP_PROP_FPS)"
   ]
  },
  {
   "cell_type": "code",
   "execution_count": 115,
   "metadata": {},
   "outputs": [
    {
     "name": "stdout",
     "output_type": "stream",
     "text": [
      "-1229782938247303\n"
     ]
    }
   ],
   "source": [
    "print(video_length)"
   ]
  },
  {
   "cell_type": "code",
   "execution_count": 99,
   "metadata": {},
   "outputs": [],
   "source": [
    "size=(int(camera.get(cv2.CAP_PROP_FRAME_WIDTH)),int(camera.get(cv2.CAP_PROP_FRAME_HEIGHT)))"
   ]
  },
  {
   "cell_type": "code",
   "execution_count": 100,
   "metadata": {},
   "outputs": [
    {
     "name": "stdout",
     "output_type": "stream",
     "text": [
      "(1600, 1200)\n"
     ]
    }
   ],
   "source": [
    "print(size)"
   ]
  },
  {
   "cell_type": "code",
   "execution_count": 102,
   "metadata": {},
   "outputs": [
    {
     "name": "stdout",
     "output_type": "stream",
     "text": [
      "83.33333333333333\n"
     ]
    }
   ],
   "source": [
    "Current_position_of_the_video = camera.get(cv2.CAP_PROP_POS_MSEC)#视频文件的当前位置（以毫秒为单位）\n",
    "print(Current_position_of_the_video)"
   ]
  },
  {
   "cell_type": "code",
   "execution_count": 112,
   "metadata": {},
   "outputs": [
    {
     "name": "stdout",
     "output_type": "stream",
     "text": [
      "-1229782938247303.0\n"
     ]
    }
   ],
   "source": [
    "Number_of_frames = camera.get(cv2.CAP_PROP_FRAME_COUNT)#视频文件中的帧数\n",
    "print(Number_of_frames)"
   ]
  },
  {
   "cell_type": "code",
   "execution_count": 113,
   "metadata": {},
   "outputs": [
    {
     "name": "stdout",
     "output_type": "stream",
     "text": [
      "-1229782938247303\n"
     ]
    }
   ],
   "source": [
    "import cv2\n",
    "print(int(camera.get(cv2.CAP_PROP_FRAME_COUNT)))"
   ]
  },
  {
   "cell_type": "code",
   "execution_count": 109,
   "metadata": {},
   "outputs": [
    {
     "name": "stdout",
     "output_type": "stream",
     "text": [
      "-102481911520608.58\n"
     ]
    }
   ],
   "source": [
    "print(1.0*Number_of_frames/fps)"
   ]
  },
  {
   "cell_type": "code",
   "execution_count": 21,
   "metadata": {},
   "outputs": [],
   "source": [
    "raw_a=[]\n",
    "raw_a.append(1)\n",
    "raw_a.append('1')\n",
    "raw_a.append('\\n')\n",
    "data = []\n",
    "data.append(raw_a)\n",
    "data.append(raw_a)"
   ]
  },
  {
   "cell_type": "code",
   "execution_count": 22,
   "metadata": {},
   "outputs": [
    {
     "data": {
      "text/plain": [
       "[1, '1']"
      ]
     },
     "execution_count": 22,
     "metadata": {},
     "output_type": "execute_result"
    }
   ],
   "source": [
    "array_a"
   ]
  },
  {
   "cell_type": "code",
   "execution_count": 23,
   "metadata": {},
   "outputs": [
    {
     "data": {
      "text/plain": [
       "[[1, '1', '\\n'], [1, '1', '\\n']]"
      ]
     },
     "execution_count": 23,
     "metadata": {},
     "output_type": "execute_result"
    }
   ],
   "source": [
    "data"
   ]
  },
  {
   "cell_type": "code",
   "execution_count": 20,
   "metadata": {},
   "outputs": [
    {
     "name": "stdout",
     "output_type": "stream",
     "text": [
      "2018-07-03 10:02:28.374624\n",
      "2018-07-03 10:02:28\n",
      "2012-03-05 16:26:23\n",
      "3\n",
      "3 days, 0:00:00\n",
      "2018-07-03 10:02:28.376750\n",
      "2018-07-03 10:02:29\n"
     ]
    }
   ],
   "source": [
    "#coding=utf-8\n",
    "import datetime\n",
    "now=datetime.datetime.now()\n",
    "print( now)\n",
    "#将日期转化为字符串 datetime => string\n",
    "print (now.strftime('%Y-%m-%d %H:%M:%S'))\n",
    "\n",
    "t_str = '2012-03-05 16:26:23'\n",
    "#将字符串转换为日期 string => datetime\n",
    "d=datetime.datetime.strptime(t_str,'%Y-%m-%d %H:%M:%S')\n",
    "print (d)\n",
    "\n",
    "#在datetime模块中有timedelta类，这个类的对象用于表示一个时间间隔，比如两个日#期或者时间的差别。\n",
    "\n",
    "#计算两个日期的间隔\n",
    "d1 = datetime.datetime.strptime('2012-03-05 17:41:20', '%Y-%m-%d %H:%M:%S')\n",
    "d2 = datetime.datetime.strptime('2012-03-02 17:41:20', '%Y-%m-%d %H:%M:%S')\n",
    "delta = d1 - d2\n",
    "print (delta.days)\n",
    "print (delta)\n",
    "\n",
    "#今天的n天后的日期。\n",
    "now=datetime.datetime.now()\n",
    "print(now)\n",
    "delta=datetime.timedelta(seconds=1.235)\n",
    "n_days=now+delta\n",
    "print( n_days.strftime('%Y-%m-%d %H:%M:%S'))"
   ]
  },
  {
   "cell_type": "code",
   "execution_count": 28,
   "metadata": {},
   "outputs": [],
   "source": [
    "import csv\n",
    " \n",
    "with open('names.csv', 'w',encoding='utf-8-sig') as csvfile:\n",
    "    fieldnames = ['first_name', 'last_name']\n",
    "    writer = csv.DictWriter(csvfile, fieldnames=fieldnames)\n",
    "    writer.writeheader()\n",
    "    writer.writerow({'first_name': 'Baked', 'last_name': 'Beans'})\n",
    "    writer.writerow({'first_name': 'Lovely', 'last_name': 'Spam'})\n",
    "    writer.writerow({'first_name': 'Wonderful', 'last_name': 'Spam'})"
   ]
  },
  {
   "cell_type": "code",
   "execution_count": null,
   "metadata": {},
   "outputs": [],
   "source": []
  }
 ],
 "metadata": {
  "kernelspec": {
   "display_name": "Python 3",
   "language": "python",
   "name": "python3"
  },
  "language_info": {
   "codemirror_mode": {
    "name": "ipython",
    "version": 3
   },
   "file_extension": ".py",
   "mimetype": "text/x-python",
   "name": "python",
   "nbconvert_exporter": "python",
   "pygments_lexer": "ipython3",
   "version": "3.5.2"
  }
 },
 "nbformat": 4,
 "nbformat_minor": 2
}
